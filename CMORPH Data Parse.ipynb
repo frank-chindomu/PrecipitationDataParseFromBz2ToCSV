{
 "cells": [
  {
   "cell_type": "code",
   "execution_count": 15,
   "metadata": {},
   "outputs": [],
   "source": [
    "from netCDF4 import Dataset\n",
    "import pandas as pd\n",
    "import netCDF4"
   ]
  },
  {
   "cell_type": "code",
   "execution_count": 16,
   "metadata": {},
   "outputs": [],
   "source": [
    "nc = Dataset('ht.nc','r')"
   ]
  },
  {
   "cell_type": "code",
   "execution_count": 17,
   "metadata": {},
   "outputs": [
    {
     "data": {
      "text/plain": [
       "OrderedDict([('time',\n",
       "              <class 'netCDF4._netCDF4.Dimension'> (unlimited): name = 'time', size = 1),\n",
       "             ('lon',\n",
       "              <class 'netCDF4._netCDF4.Dimension'>: name = 'lon', size = 1440),\n",
       "             ('lat',\n",
       "              <class 'netCDF4._netCDF4.Dimension'>: name = 'lat', size = 480),\n",
       "             ('lev',\n",
       "              <class 'netCDF4._netCDF4.Dimension'>: name = 'lev', size = 1)])"
      ]
     },
     "execution_count": 17,
     "metadata": {},
     "output_type": "execute_result"
    }
   ],
   "source": [
    "nc.dimensions"
   ]
  },
  {
   "cell_type": "code",
   "execution_count": 18,
   "metadata": {},
   "outputs": [
    {
     "name": "stdout",
     "output_type": "stream",
     "text": [
      "OrderedDict([('time', <class 'netCDF4._netCDF4.Variable'>\n",
      "float64 time(time)\n",
      "    standard_name: time\n",
      "    units: hours since 1-1-1 00:00:00\n",
      "    calendar: standard\n",
      "    axis: T\n",
      "unlimited dimensions: time\n",
      "current shape = (1,)\n",
      "filling on, default _FillValue of 9.969209968386869e+36 used\n",
      "), ('lon', <class 'netCDF4._netCDF4.Variable'>\n",
      "float32 lon(lon)\n",
      "    standard_name: longitude\n",
      "    long_name: longitude\n",
      "    units: degrees_east\n",
      "    axis: X\n",
      "unlimited dimensions: \n",
      "current shape = (1440,)\n",
      "filling on, default _FillValue of 9.969209968386869e+36 used\n",
      "), ('lat', <class 'netCDF4._netCDF4.Variable'>\n",
      "float32 lat(lat)\n",
      "    standard_name: latitude\n",
      "    long_name: latitude\n",
      "    units: degrees_north\n",
      "    axis: Y\n",
      "unlimited dimensions: \n",
      "current shape = (480,)\n",
      "filling on, default _FillValue of 9.969209968386869e+36 used\n",
      "), ('lev', <class 'netCDF4._netCDF4.Variable'>\n",
      "float64 lev(lev)\n",
      "    axis: Z\n",
      "unlimited dimensions: \n",
      "current shape = (1,)\n",
      "filling on, default _FillValue of 9.969209968386869e+36 used\n",
      "), ('cmorph', <class 'netCDF4._netCDF4.Variable'>\n",
      "float32 cmorph(time, lev, lat, lon)\n",
      "    long_name: yyyyy CMORPH Version 1.o daily precipitation (mm)\n",
      "    _FillValue: -999.0\n",
      "    missing_value: -999.0\n",
      "unlimited dimensions: time\n",
      "current shape = (1, 1, 480, 1440)\n",
      "filling on)])\n"
     ]
    }
   ],
   "source": [
    "print(nc.variables)"
   ]
  },
  {
   "cell_type": "code",
   "execution_count": 23,
   "metadata": {},
   "outputs": [
    {
     "name": "stdout",
     "output_type": "stream",
     "text": [
      "(1, 1, 480, 1440)\n",
      "(480,)\n",
      "(1440,)\n",
      "(1,)\n"
     ]
    }
   ],
   "source": [
    "nc.variables.keys()\n",
    "\n",
    "lat = nc.variables['lat'][:]\n",
    "lon = nc.variables['lon'][:]\n",
    "time_var = nc.variables['time']\n",
    "dtime = netCDF4.num2date(time_var[:],time_var.units)\n",
    "precip = nc.variables['cmorph'][:]\n",
    "print(precip.shape)\n",
    "print(lat.shape)\n",
    "print(lon.shape)\n",
    "print(dtime.shape)"
   ]
  },
  {
   "cell_type": "code",
   "execution_count": 20,
   "metadata": {},
   "outputs": [],
   "source": [
    "precip = precip.reshape(480,1440)"
   ]
  },
  {
   "cell_type": "code",
   "execution_count": 21,
   "metadata": {},
   "outputs": [],
   "source": [
    "\n",
    "# a pandas.Series designed for time series of a 2D lat,lon grid\n",
    "precip_ts = pd.DataFrame(precip,columns=lon,index=lat) \n",
    "precip_ts\n",
    "\n",
    "precip_ts.to_csv('precip.csv',index=True, header=True)"
   ]
  },
  {
   "cell_type": "code",
   "execution_count": 22,
   "metadata": {},
   "outputs": [],
   "source": [
    "# import gmplot \n",
    "  \n",
    "# latitude_list = [ 30.3358376, 30.307977, 30.3216419 ] \n",
    "# longitude_list = [ 77.8701919, 78.048457, 78.0413095 ] \n",
    "  \n",
    "# gmap3 = gmplot.GoogleMapPlotter(30.3164945, \n",
    "#                                 78.03219179999999, 13) \n",
    "  \n",
    "# # scatter method of map object  \n",
    "# # scatter points on the google map \n",
    "# gmap3.scatter( latitude_list, longitude_list, '# FF0000', \n",
    "#                               size = 40, marker = False ) \n",
    "  \n",
    "# # Plot method Draw a line in \n",
    "# # between given coordinates \n",
    "# gmap3.plot(latitude_list, longitude_list,  \n",
    "#            'cornflowerblue', edge_width = 2.5) \n",
    "  \n",
    "# gmap3.draw( \"C:\\\\Users\\\\user\\\\Desktop\\\\map13.html\" ) "
   ]
  },
  {
   "cell_type": "code",
   "execution_count": null,
   "metadata": {},
   "outputs": [],
   "source": []
  }
 ],
 "metadata": {
  "kernelspec": {
   "display_name": "Python 3",
   "language": "python",
   "name": "python3"
  },
  "language_info": {
   "codemirror_mode": {
    "name": "ipython",
    "version": 3
   },
   "file_extension": ".py",
   "mimetype": "text/x-python",
   "name": "python",
   "nbconvert_exporter": "python",
   "pygments_lexer": "ipython3",
   "version": "3.6.5"
  }
 },
 "nbformat": 4,
 "nbformat_minor": 2
}
